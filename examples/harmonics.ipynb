{
 "cells": [
  {
   "cell_type": "code",
   "execution_count": 1,
   "id": "45bbacd4-e1c3-45d0-8134-e1712eaf36c6",
   "metadata": {},
   "outputs": [],
   "source": [
    "import numpy as np\n",
    "import mielib as mie\n",
    "\n",
    "import matplotlib.pyplot as plt\n",
    "plt.rcdefaults()\n",
    "plt.style.use('https://raw.githubusercontent.com/toftul/plt-styles-phys/main/phys-plots-sans.mplstyle')"
   ]
  },
  {
   "cell_type": "markdown",
   "id": "c5419ffd-7fbc-4c88-90f6-ad00b1b733f9",
   "metadata": {},
   "source": [
    "Results from Mathematica for the comparison. The code is\n",
    "```mathematica\n",
    "\\[Psi] = \n",
    "  SphericalHankelH1[n, r] SphericalHarmonicY[n, m, \\[Theta], \\[Phi]];\n",
    "\n",
    "Lsp = Grad[\\[Psi], {r, \\[Theta], \\[Phi]}, \"Spherical\"];\n",
    "\n",
    "Msp = Curl[{r, 0, 0} \\[Psi], {r, \\[Theta], \\[Phi]}, \"Spherical\"];\n",
    "\n",
    "Nsp = Curl[Msp, {r, \\[Theta], \\[Phi]}, \"Spherical\"];\n",
    "```\n",
    "\n",
    "which gives\n",
    "```mathemtica\n",
    "Nsp /. {n -> 3, m -> 1, \\[Theta] -> 0.3, \\[Phi] -> 0.5, \n",
    "    r -> 1.2 + I} // N // MatrixForm\n",
    "```\n",
    "```\n",
    "{2.6883 - 6.20557 I, -1.02717 + 4.019 I, -5.57267 - 1.42426 I}\n",
    "```\n",
    "and \n",
    "```mathemtica\n",
    "Msp /. {n -> 4, m -> -1, \\[Theta] -> 1.3, \\[Phi] -> 0.5, \n",
    "   r -> 1.2 + I} // N\n",
    "```\n",
    "```\n",
    "{0., -2.89538 + 2.24409 I, -4.06637 - 5.24654 I}\n",
    "```"
   ]
  },
  {
   "cell_type": "code",
   "execution_count": 3,
   "id": "b0b3c88e-943f-4231-9647-f11e3dce6811",
   "metadata": {},
   "outputs": [
    {
     "data": {
      "text/plain": [
       "array([ 2.68829668-6.20556915j, -1.02717252+4.01899775j,\n",
       "       -5.57267224-1.42425951j])"
      ]
     },
     "execution_count": 3,
     "metadata": {},
     "output_type": "execute_result"
    }
   ],
   "source": [
    "mie.vector_spherical_harmonic_n(m=1, j=3, rho=1.2 + 1j, theta=0.3, phi=0.5, superscript=3, source='toftul')"
   ]
  },
  {
   "cell_type": "code",
   "execution_count": 4,
   "id": "e73fcafe-a499-49eb-bf3b-8ba457ccc897",
   "metadata": {},
   "outputs": [
    {
     "data": {
      "text/plain": [
       "array([ 0.        +0.j        , -2.89538153+2.24408513j,\n",
       "       -4.06636739-5.24654118j])"
      ]
     },
     "execution_count": 4,
     "metadata": {},
     "output_type": "execute_result"
    }
   ],
   "source": [
    "mie.vector_spherical_harmonic_m(m=-1, j=4, rho=1.2 + 1j, theta=1.3, phi=0.5, superscript=3, source='toftul')"
   ]
  },
  {
   "cell_type": "code",
   "execution_count": null,
   "id": "4aad8a11-448f-40f1-9149-26064c6d99d7",
   "metadata": {},
   "outputs": [],
   "source": []
  }
 ],
 "metadata": {
  "kernelspec": {
   "display_name": "Python 3 (ipykernel)",
   "language": "python",
   "name": "python3"
  },
  "language_info": {
   "codemirror_mode": {
    "name": "ipython",
    "version": 3
   },
   "file_extension": ".py",
   "mimetype": "text/x-python",
   "name": "python",
   "nbconvert_exporter": "python",
   "pygments_lexer": "ipython3",
   "version": "3.11.0"
  }
 },
 "nbformat": 4,
 "nbformat_minor": 5
}
