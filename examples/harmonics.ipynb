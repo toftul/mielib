{
 "cells": [
  {
   "cell_type": "code",
   "execution_count": 1,
   "id": "45bbacd4-e1c3-45d0-8134-e1712eaf36c6",
   "metadata": {},
   "outputs": [],
   "source": [
    "import numpy as np\n",
    "import mielib as mie\n",
    "\n",
    "import matplotlib.pyplot as plt\n",
    "plt.rcdefaults()\n",
    "plt.style.use('https://raw.githubusercontent.com/toftul/plt-styles-phys/main/phys-plots-sans.mplstyle')"
   ]
  },
  {
   "cell_type": "code",
   "execution_count": 2,
   "id": "0f12f966-446f-4054-894c-60fcf4cfdc09",
   "metadata": {},
   "outputs": [
    {
     "data": {
      "text/plain": [
       "array([ 0.        +0.j        ,  1.2556439 +0.93120129j,\n",
       "       -0.42238929+0.5695552j ])"
      ]
     },
     "execution_count": 2,
     "metadata": {},
     "output_type": "execute_result"
    }
   ],
   "source": [
    "m, j = 2, 2\n",
    "\n",
    "rho, theta, phi = 1.2, 1.1, 0.3\n",
    "\n",
    "mie.vector_spherical_harmonic_m(m, j, rho, theta, phi)"
   ]
  },
  {
   "cell_type": "code",
   "execution_count": null,
   "id": "b0b3c88e-943f-4231-9647-f11e3dce6811",
   "metadata": {},
   "outputs": [],
   "source": []
  }
 ],
 "metadata": {
  "kernelspec": {
   "display_name": "Python 3 (ipykernel)",
   "language": "python",
   "name": "python3"
  },
  "language_info": {
   "codemirror_mode": {
    "name": "ipython",
    "version": 3
   },
   "file_extension": ".py",
   "mimetype": "text/x-python",
   "name": "python",
   "nbconvert_exporter": "python",
   "pygments_lexer": "ipython3",
   "version": "3.11.0"
  }
 },
 "nbformat": 4,
 "nbformat_minor": 5
}
