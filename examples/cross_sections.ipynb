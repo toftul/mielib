{
 "cells": [
  {
   "cell_type": "code",
   "execution_count": 1,
   "id": "609ab1fe-bea0-4fb8-8c87-bc2791d41e6b",
   "metadata": {},
   "outputs": [],
   "source": [
    "import numpy as np\n",
    "import matplotlib.pyplot as plt\n",
    "import mielib as mie\n",
    "\n",
    "plt.rcdefaults()\n",
    "plt.style.use('https://raw.githubusercontent.com/toftul/plt-styles-phys/main/phys-plots-sans.mplstyle')"
   ]
  },
  {
   "cell_type": "markdown",
   "id": "240c86d8-7bba-4d4e-a72f-eaac4419de7b",
   "metadata": {},
   "source": [
    "# Acoustics"
   ]
  },
  {
   "cell_type": "code",
   "execution_count": 3,
   "id": "23b8ad92-d096-4f25-a0e4-c0d57b282896",
   "metadata": {},
   "outputs": [
    {
     "name": "stderr",
     "output_type": "stream",
     "text": [
      "/home/ivan/.local/lib/python3.11/site-packages/mielib/extraspecial.py:5: RuntimeWarning: invalid value encountered in multiply\n",
      "  return sp.spherical_jn(n, z, p) + 1j * sp.spherical_yn(n, z, p)\n"
     ]
    },
    {
     "ename": "AttributeError",
     "evalue": "module 'mielib.extraspecial' has no attribute 'spherical_h1p'",
     "output_type": "error",
     "traceback": [
      "\u001b[0;31m---------------------------------------------------------------------------\u001b[0m",
      "\u001b[0;31mAttributeError\u001b[0m                            Traceback (most recent call last)",
      "Cell \u001b[0;32mIn [3], line 7\u001b[0m\n\u001b[1;32m      4\u001b[0m a \u001b[38;5;241m=\u001b[39m \u001b[38;5;241m1\u001b[39m\n\u001b[1;32m      5\u001b[0m k \u001b[38;5;241m=\u001b[39m np\u001b[38;5;241m.\u001b[39mlinspace(\u001b[38;5;241m0\u001b[39m, stop\u001b[38;5;241m=\u001b[39m\u001b[38;5;241m5\u001b[39m, num\u001b[38;5;241m=\u001b[39m\u001b[38;5;241m300\u001b[39m)\n\u001b[0;32m----> 7\u001b[0m sigma_sc, _ \u001b[38;5;241m=\u001b[39m \u001b[43mmie\u001b[49m\u001b[38;5;241;43m.\u001b[39;49m\u001b[43macoustics_scattering_cross_section\u001b[49m\u001b[43m(\u001b[49m\u001b[43mk\u001b[49m\u001b[43m,\u001b[49m\u001b[43m \u001b[49m\u001b[43ma\u001b[49m\u001b[43m,\u001b[49m\u001b[43m \u001b[49m\u001b[43mrho_rel\u001b[49m\u001b[43m,\u001b[49m\u001b[43m \u001b[49m\u001b[43mbeta_rel\u001b[49m\u001b[43m,\u001b[49m\u001b[43m \u001b[49m\u001b[43mnorm\u001b[49m\u001b[38;5;241;43m=\u001b[39;49m\u001b[38;5;124;43m'\u001b[39;49m\u001b[38;5;124;43mgeom\u001b[39;49m\u001b[38;5;124;43m'\u001b[39;49m\u001b[43m)\u001b[49m\n",
      "File \u001b[0;32m~/.local/lib/python3.11/site-packages/mielib/mieacoustics.py:43\u001b[0m, in \u001b[0;36macoustics_scattering_cross_section\u001b[0;34m(k, a, rho_rel, beta_rel, nmin, nmax, norm)\u001b[0m\n\u001b[1;32m     40\u001b[0m sigma_sc_n \u001b[38;5;241m=\u001b[39m np\u001b[38;5;241m.\u001b[39mzeros([nmax\u001b[38;5;241m+\u001b[39m\u001b[38;5;241m1\u001b[39m \u001b[38;5;241m-\u001b[39m nmin, ka\u001b[38;5;241m.\u001b[39msize])\n\u001b[1;32m     42\u001b[0m \u001b[38;5;28;01mfor\u001b[39;00m n \u001b[38;5;129;01min\u001b[39;00m \u001b[38;5;28mrange\u001b[39m(nmin, nmax\u001b[38;5;241m+\u001b[39m\u001b[38;5;241m1\u001b[39m):\n\u001b[0;32m---> 43\u001b[0m     an \u001b[38;5;241m=\u001b[39m \u001b[43macoustics_mie_a\u001b[49m\u001b[43m(\u001b[49m\u001b[43mn\u001b[49m\u001b[43m,\u001b[49m\u001b[43m \u001b[49m\u001b[43mka\u001b[49m\u001b[43m,\u001b[49m\u001b[43m \u001b[49m\u001b[43mrho_rel\u001b[49m\u001b[43m,\u001b[49m\u001b[43m \u001b[49m\u001b[43mbeta_rel\u001b[49m\u001b[43m)\u001b[49m\n\u001b[1;32m     44\u001b[0m     sigma_sc_n[n, :] \u001b[38;5;241m=\u001b[39m \u001b[38;5;241m4\u001b[39m\u001b[38;5;241m*\u001b[39mnp\u001b[38;5;241m.\u001b[39mpi \u001b[38;5;241m/\u001b[39m k\u001b[38;5;241m*\u001b[39m\u001b[38;5;241m*\u001b[39m\u001b[38;5;241m2\u001b[39m \u001b[38;5;241m*\u001b[39m (\u001b[38;5;241m2\u001b[39m\u001b[38;5;241m*\u001b[39mn\u001b[38;5;241m+\u001b[39m\u001b[38;5;241m1\u001b[39m) \u001b[38;5;241m*\u001b[39m np\u001b[38;5;241m.\u001b[39mabs(an\u001b[38;5;241m*\u001b[39m\u001b[38;5;241m*\u001b[39m\u001b[38;5;241m2\u001b[39m)\n\u001b[1;32m     46\u001b[0m sigma_sc \u001b[38;5;241m=\u001b[39m np\u001b[38;5;241m.\u001b[39msum(sigma_sc_n, axis\u001b[38;5;241m=\u001b[39m\u001b[38;5;241m0\u001b[39m)\n",
      "File \u001b[0;32m~/.local/lib/python3.11/site-packages/mielib/mieacoustics.py:20\u001b[0m, in \u001b[0;36macoustics_mie_a\u001b[0;34m(n, ka, rho1, beta1)\u001b[0m\n\u001b[1;32m     18\u001b[0m extraspecial\u001b[38;5;241m.\u001b[39mspherical_h1(n, ka)\n\u001b[1;32m     19\u001b[0m hn \u001b[38;5;241m=\u001b[39m extraspecial\u001b[38;5;241m.\u001b[39mspherical_h1(n, ka)\n\u001b[0;32m---> 20\u001b[0m hnp \u001b[38;5;241m=\u001b[39m \u001b[43mextraspecial\u001b[49m\u001b[38;5;241;43m.\u001b[39;49m\u001b[43mspherical_h1p\u001b[49m(n, ka)\n\u001b[1;32m     21\u001b[0m up \u001b[38;5;241m=\u001b[39m (gamma \u001b[38;5;241m*\u001b[39m jn1p \u001b[38;5;241m*\u001b[39m jn \u001b[38;5;241m-\u001b[39m jn1 \u001b[38;5;241m*\u001b[39m jnp)\n\u001b[1;32m     22\u001b[0m down \u001b[38;5;241m=\u001b[39m (jn1 \u001b[38;5;241m*\u001b[39m hnp \u001b[38;5;241m-\u001b[39m gamma \u001b[38;5;241m*\u001b[39m jn1p \u001b[38;5;241m*\u001b[39m hn)\n",
      "\u001b[0;31mAttributeError\u001b[0m: module 'mielib.extraspecial' has no attribute 'spherical_h1p'"
     ]
    }
   ],
   "source": [
    "rho_rel = 3\n",
    "beta_rel = 2\n",
    "\n",
    "a = 1\n",
    "k = np.linspace(0, stop=5, num=300)\n",
    "\n",
    "sigma_sc, _ = mie.acoustics_scattering_cross_section(k, a, rho_rel, beta_rel, norm='geom')"
   ]
  },
  {
   "cell_type": "code",
   "execution_count": null,
   "id": "138cac98-5853-4340-b12f-34f6bb087f21",
   "metadata": {},
   "outputs": [],
   "source": []
  }
 ],
 "metadata": {
  "kernelspec": {
   "display_name": "Python 3 (ipykernel)",
   "language": "python",
   "name": "python3"
  },
  "language_info": {
   "codemirror_mode": {
    "name": "ipython",
    "version": 3
   },
   "file_extension": ".py",
   "mimetype": "text/x-python",
   "name": "python",
   "nbconvert_exporter": "python",
   "pygments_lexer": "ipython3",
   "version": "3.11.0"
  }
 },
 "nbformat": 4,
 "nbformat_minor": 5
}
