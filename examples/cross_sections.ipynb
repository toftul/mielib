{
 "cells": [
  {
   "cell_type": "code",
   "execution_count": 2,
   "id": "609ab1fe-bea0-4fb8-8c87-bc2791d41e6b",
   "metadata": {},
   "outputs": [],
   "source": [
    "import numpy as np\n",
    "import matplotlib.pyplot as plt\n",
    "import mielib as mie\n",
    "\n",
    "plt.rcdefaults()\n",
    "plt.style.use('https://raw.githubusercontent.com/toftul/plt-styles-phys/main/phys-plots-sans.mplstyle')"
   ]
  },
  {
   "cell_type": "markdown",
   "id": "240c86d8-7bba-4d4e-a72f-eaac4419de7b",
   "metadata": {},
   "source": [
    "# Acoustics"
   ]
  },
  {
   "cell_type": "code",
   "execution_count": null,
   "id": "23b8ad92-d096-4f25-a0e4-c0d57b282896",
   "metadata": {},
   "outputs": [],
   "source": []
  }
 ],
 "metadata": {
  "kernelspec": {
   "display_name": "Python 3 (ipykernel)",
   "language": "python",
   "name": "python3"
  },
  "language_info": {
   "codemirror_mode": {
    "name": "ipython",
    "version": 3
   },
   "file_extension": ".py",
   "mimetype": "text/x-python",
   "name": "python",
   "nbconvert_exporter": "python",
   "pygments_lexer": "ipython3",
   "version": "3.11.0"
  }
 },
 "nbformat": 4,
 "nbformat_minor": 5
}
